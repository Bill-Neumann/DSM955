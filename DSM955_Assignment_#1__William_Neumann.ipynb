{
 "cells": [
  {
   "cell_type": "code",
   "execution_count": 2,
   "metadata": {},
   "outputs": [],
   "source": [
    "first_fruit = \"apples\"\n",
    "second_fruit = \"bananas\"\n",
    "third_fruit = \"oranges\"\n",
    "fourth_fruit = \"pears\"\n",
    "shopping_list = \"My shopping list: %s, %s, %s, %s.\" % (first_fruit, second_fruit, third_fruit, fourth_fruit)"
   ]
  },
  {
   "cell_type": "code",
   "execution_count": 3,
   "metadata": {},
   "outputs": [
    {
     "name": "stdout",
     "output_type": "stream",
     "text": [
      "apples\n",
      "bananas\n",
      "oranges\n",
      "pears\n",
      "My shopping list: apples, bananas, oranges, pears.\n"
     ]
    }
   ],
   "source": [
    "print(first_fruit)\n",
    "print(second_fruit)\n",
    "print(third_fruit)\n",
    "print(fourth_fruit)\n",
    "print(shopping_list)"
   ]
  },
  {
   "cell_type": "code",
   "execution_count": null,
   "metadata": {},
   "outputs": [],
   "source": []
  }
 ],
 "metadata": {
  "kernelspec": {
   "display_name": "Python 3",
   "language": "python",
   "name": "python3"
  },
  "language_info": {
   "codemirror_mode": {
    "name": "ipython",
    "version": 3
   },
   "file_extension": ".py",
   "mimetype": "text/x-python",
   "name": "python",
   "nbconvert_exporter": "python",
   "pygments_lexer": "ipython3",
   "version": "3.6.4"
  }
 },
 "nbformat": 4,
 "nbformat_minor": 2
}
