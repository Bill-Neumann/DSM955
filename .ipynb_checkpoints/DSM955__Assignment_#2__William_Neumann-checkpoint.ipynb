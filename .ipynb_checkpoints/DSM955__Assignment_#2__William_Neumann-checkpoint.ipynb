{
 "cells": [
  {
   "cell_type": "markdown",
   "metadata": {},
   "source": [
    "## I'm making a fun random \"madlib\" style program for my Assignment #2 choice.\n"
   ]
  },
  {
   "cell_type": "code",
   "execution_count": 31,
   "metadata": {},
   "outputs": [],
   "source": [
    "import random"
   ]
  },
  {
   "cell_type": "code",
   "execution_count": 32,
   "metadata": {},
   "outputs": [],
   "source": [
    "# weekdays: List of days of the week sans weekend days\n",
    "# activities: List of fun activities\n",
    "# clothes: List of options of what to wear\n",
    "# food: Sample list of meals to eat\n",
    "# payment: List of options for how to pay\n",
    "# breaking the rule of \"no for loops\"...but it's more efficient to have a small list of random integers\n",
    "\n",
    "weekdays = ['Monday', 'Tuesday', 'Wednesday', 'Thursday', 'Friday']\n",
    "activities = ['see a movie', 'bowling', 'swimming', 'hiking', 'sleeping']\n",
    "clothes = ['suit', 'swim suit', 'business casual outfit', 'sweats', 'pajamas']\n",
    "food = ['hotdogs', 'hamburgers', 'sushi', 'pasta', 'sandwiches']\n",
    "payment = ['cash', 'credit card', 'IOU', 'barter', 'running like hell']\n",
    "\n",
    "x = []\n",
    "for i in range(5):\n",
    "    x.append(random.randint(0,4))"
   ]
  },
  {
   "cell_type": "code",
   "execution_count": 33,
   "metadata": {},
   "outputs": [
    {
     "name": "stdout",
     "output_type": "stream",
     "text": [
      "['Monday', 'Tuesday', 'Wednesday', 'Thursday', 'Friday']\n",
      "['suit', 'swim suit', 'business casual outfit', 'sweats', 'pajamas']\n",
      "['hotdogs', 'hamburgers', 'sushi', 'pasta', 'sandwiches']\n",
      "['see a movie', 'bowling', 'swimming', 'hiking', 'sleeping']\n",
      "['cash', 'credit card', 'IOU', 'barter', 'running like hell']\n"
     ]
    }
   ],
   "source": [
    "# Printing out the lists to make sure there is nothing missing\n",
    "\n",
    "print(weekdays)\n",
    "print(clothes)\n",
    "print(food)\n",
    "print(activities)\n",
    "print(payment)"
   ]
  },
  {
   "cell_type": "code",
   "execution_count": 34,
   "metadata": {},
   "outputs": [
    {
     "name": "stdout",
     "output_type": "stream",
     "text": [
      "On Wednesday I will go hiking. I will wear my best swim suit. I will eat a fine plate of hotdogs.\n",
      "I will of course be paying by cash.\n"
     ]
    }
   ],
   "source": [
    "madlib_party_planner = 'On ' + weekdays[x[0]] + ' I will go ' + activities[x[1]] + '.'\n",
    "madlib_party_planner += ' I will wear my best ' + clothes[x[2]] + '.'\n",
    "madlib_party_planner += ' I will eat a fine plate of ' + food[x[3]] + '.'\n",
    "madlib_party_planner += '\\nI will of course be paying by ' + payment[x[4]] + '.'\n",
    "print(madlib_party_planner)"
   ]
  },
  {
   "cell_type": "code",
   "execution_count": null,
   "metadata": {},
   "outputs": [],
   "source": []
  }
 ],
 "metadata": {
  "kernelspec": {
   "display_name": "Python 3",
   "language": "python",
   "name": "python3"
  },
  "language_info": {
   "codemirror_mode": {
    "name": "ipython",
    "version": 3
   },
   "file_extension": ".py",
   "mimetype": "text/x-python",
   "name": "python",
   "nbconvert_exporter": "python",
   "pygments_lexer": "ipython3",
   "version": "3.6.4"
  }
 },
 "nbformat": 4,
 "nbformat_minor": 2
}
