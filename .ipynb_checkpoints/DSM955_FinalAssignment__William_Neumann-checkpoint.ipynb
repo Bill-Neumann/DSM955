{
 "cells": [
  {
   "cell_type": "code",
   "execution_count": 62,
   "metadata": {},
   "outputs": [],
   "source": [
    "from tkinter import *"
   ]
  },
  {
   "cell_type": "code",
   "execution_count": 63,
   "metadata": {},
   "outputs": [
    {
     "data": {
      "text/plain": [
       "''"
      ]
     },
     "execution_count": 63,
     "metadata": {},
     "output_type": "execute_result"
    }
   ],
   "source": [
    "calc_form = Tk()\n",
    "calc_form.title(\"Calculator\")\n",
    "calc_form.geometry(\"300x400\")"
   ]
  },
  {
   "cell_type": "code",
   "execution_count": 64,
   "metadata": {},
   "outputs": [],
   "source": [
    "display = StringVar()\n",
    "equa_display = StringVar()\n",
    "\n",
    "lbl = Label(calc_form, textvariable=display, borderwidth=2, width=17, relief=\"sunken\", font=(\"Arial Bold\", 20))\n",
    "equation = Label(calc_form, textvariable=equa_display)\n",
    ";\n",
    "display.set(\"0\")"
   ]
  },
  {
   "cell_type": "code",
   "execution_count": 65,
   "metadata": {},
   "outputs": [],
   "source": [
    "def num(keypress):\n",
    "    calculation = equa_display.get()\n",
    "    if calculation == \"=\":\n",
    "        equa_display.set(\"\")\n",
    "        display.set(\"0\")\n",
    "    new_display = display.get()\n",
    "    if keypress == \".\":\n",
    "        if new_display.count(\".\") == 0:\n",
    "            new_display += keypress\n",
    "    else:\n",
    "        if len(new_display) == 1 and new_display == \"0\":\n",
    "            new_display = keypress\n",
    "        else:\n",
    "            new_display += keypress\n",
    "    display.set(new_display)\n",
    "    \n",
    "def operator(keypress):\n",
    "    value = display.get()\n",
    "    calculation = equa_display.get() + value\n",
    "    #equa_display.set(calculation + value)\n",
    "    if keypress == \"=\":\n",
    "        new_display = eval(calculation)\n",
    "        display.set(new_display)\n",
    "        equa_display.set(\"=\")\n",
    "    else:\n",
    "        calculation += \" \" + keypress + \" \"\n",
    "        equa_display.set(calculation)\n",
    "        display.set(\"0\")"
   ]
  },
  {
   "cell_type": "code",
   "execution_count": 66,
   "metadata": {},
   "outputs": [],
   "source": [
    "btn_0 = Button(calc_form, text=\"0\", command=lambda:num(\"0\"), font=(\"Arial\", 20))\n",
    "btn_1 = Button(calc_form, text=\"1\", command=lambda:num(\"1\"), font=(\"Arial\", 20))\n",
    "btn_2 = Button(calc_form, text=\"2\", command=lambda:num(\"2\"), font=(\"Arial\", 20))\n",
    "btn_3 = Button(calc_form, text=\"3\", command=lambda:num(\"3\"), font=(\"Arial\", 20))\n",
    "btn_4 = Button(calc_form, text=\"4\", command=lambda:num(\"4\"), font=(\"Arial\", 20))\n",
    "btn_5 = Button(calc_form, text=\"5\", command=lambda:num(\"5\"), font=(\"Arial\", 20))\n",
    "btn_6 = Button(calc_form, text=\"6\", command=lambda:num(\"6\"), font=(\"Arial\", 20))\n",
    "btn_7 = Button(calc_form, text=\"7\", command=lambda:num(\"7\"), font=(\"Arial\", 20))\n",
    "btn_8 = Button(calc_form, text=\"8\", command=lambda:num(\"8\"), font=(\"Arial\", 20))\n",
    "btn_9 = Button(calc_form, text=\"9\", command=lambda:num(\"9\"), font=(\"Arial\", 20))\n",
    "btn_dot = Button(calc_form, text=\". \", command=lambda:num(\".\"), font=(\"Arial\", 20))\n",
    ";\n",
    "btn_div = Button(calc_form, text=\"/\", command=lambda:operator(\"/\"), font=(\"Arial\", 20))\n",
    "btn_mlt = Button(calc_form, text=\"*\", command=lambda:operator(\"*\"), font=(\"Arial\", 20))\n",
    "btn_min = Button(calc_form, text=\"-\", command=lambda:operator(\"-\"), font=(\"Arial\", 20))\n",
    "btn_pls = Button(calc_form, text=\"+\", command=lambda:operator(\"+\"), font=(\"Arial\", 20))\n",
    "btn_eql = Button(calc_form, text=\"=\", command=lambda:operator(\"=\"), font=(\"Arial\", 20))"
   ]
  },
  {
   "cell_type": "code",
   "execution_count": 67,
   "metadata": {},
   "outputs": [],
   "source": [
    "lbl.grid(column=0, row=0)\n",
    "equation.place(x=1,y=300)\n",
    ";\n",
    "btn_7.place(x=1,y=50)\n",
    "btn_8.place(x=51,y=50)\n",
    "btn_9.place(x=101,y=50)\n",
    "btn_4.place(x=1,y=110)\n",
    "btn_5.place(x=51,y=110)\n",
    "btn_6.place(x=101,y=110)\n",
    "btn_1.place(x=1,y=170)\n",
    "btn_2.place(x=51,y=170)\n",
    "btn_3.place(x=101,y=170)\n",
    "btn_0.place(x=51,y=230)\n",
    "btn_dot.place(x=101,y=230)\n",
    ";\n",
    "btn_eql.place(x=1,y=230)\n",
    "btn_div.place(x=151,y=50)\n",
    "btn_mlt.place(x=151,y=110)\n",
    "btn_pls.place(x=151,y=170)\n",
    "btn_min.place(x=151,y=230)"
   ]
  },
  {
   "cell_type": "code",
   "execution_count": 68,
   "metadata": {},
   "outputs": [],
   "source": [
    "calc_form.mainloop()"
   ]
  },
  {
   "cell_type": "code",
   "execution_count": null,
   "metadata": {},
   "outputs": [],
   "source": []
  }
 ],
 "metadata": {
  "kernelspec": {
   "display_name": "Python 3",
   "language": "python",
   "name": "python3"
  },
  "language_info": {
   "codemirror_mode": {
    "name": "ipython",
    "version": 3
   },
   "file_extension": ".py",
   "mimetype": "text/x-python",
   "name": "python",
   "nbconvert_exporter": "python",
   "pygments_lexer": "ipython3",
   "version": "3.6.4"
  }
 },
 "nbformat": 4,
 "nbformat_minor": 2
}
